{
  "nbformat": 4,
  "nbformat_minor": 0,
  "metadata": {
    "colab": {
      "provenance": [],
      "authorship_tag": "ABX9TyN5w7Qjg4unjZiaec7uP/jO",
      "include_colab_link": true
    },
    "kernelspec": {
      "name": "python3",
      "display_name": "Python 3"
    },
    "language_info": {
      "name": "python"
    }
  },
  "cells": [
    {
      "cell_type": "markdown",
      "metadata": {
        "id": "view-in-github",
        "colab_type": "text"
      },
      "source": [
        "<a href=\"https://colab.research.google.com/github/superspray/KOR_DA_2021/blob/main/KOR_DA_2021_EDA_POS.ipynb\" target=\"_parent\"><img src=\"https://colab.research.google.com/assets/colab-badge.svg\" alt=\"Open In Colab\"/></a>"
      ]
    },
    {
      "cell_type": "markdown",
      "source": [
        "# 형태소 분석 기반의 쉬운 데이터 증강 (EDA-POS)\n",
        "\n",
        "\n",
        "\n",
        "*   Wei and Zou (2019)의 방법을 한국어 데이터 특성에 맞게 변형한\n",
        "형태소 분석 기반의 쉬운 데이터 증강 기법\n",
        "\n",
        "*   형태소 분석기를 통한 품사 태깅 후 조사나 문장부호에 해당하는 것으로 분석된 단어들을 기법 적용대상에서 제외하고, 나머지 단어들에 대해 아래의 네가지 방법을 적용함\n",
        "\n",
        "\n",
        "1.   동의어 대체 (synonym replacement, SR): 문장 내 임의로 추출된 p × l개의 단어들을 각각의 동의어 또는 유의어로 대체 (단, l 은\n",
        "문장의 단어 수를 의미한다.)\n",
        "2.   동의어 임의 삽입 (random Insertion, RI): 임의로 선택된 p × l개의\n",
        "단어에 대한 동의어 또는 유의어를 문장 내 임의의 위치에 삽입 (단,\n",
        "l은 문장의 단어 수를 의미한다.)\n",
        "3.    임의 교환 (random Swap, RS): 임의로 두 개 단어를 선택하여 이들의\n",
        "위치를 뒤바꾸며, 이를 p × l번 반복 (단, l은 문장의 단어 수를 의미\n",
        "한다.)\n",
        "4.   임의 삭제 (random Deletion, RD): (0, 1)의 범위에서 임의로 추출된\n",
        "값 r이 확률 p보다 작을 경우 해당 위치에 존재하는 단어를 제거\n",
        "\n",
        "\n",
        "\n",
        "\n"
      ],
      "metadata": {
        "id": "1sU6wZyd23O4"
      }
    },
    {
      "cell_type": "code",
      "metadata": {
        "id": "hc7P9wzHv0LE"
      },
      "source": [
        "# HuggingFace transformers 설치 및 NSMC 데이터셋 다운로드\n",
        "!pip install transformers\n",
        "!pip install git+https://github.com/ssut/py-hanspell.git\n",
        "\n",
        "!wget https://raw.githubusercontent.com/e9t/nsmc/master/ratings_test.txt\n",
        "!wget https://raw.githubusercontent.com/e9t/nsmc/master/ratings_train.txt\n",
        "!git clone https://github.com/kocohub/korean-hate-speech\n",
        "!git clone https://github.com/songys/Toxic_comment_data\n",
        "\n",
        "\n",
        "import pandas as pd\n",
        "import torch\n",
        "from torch.nn import functional as F\n",
        "from torch.utils.data import DataLoader, Dataset\n",
        "from transformers import AutoTokenizer, ElectraForSequenceClassification, AdamW\n",
        "from transformers import ElectraForMaskedLM\n",
        "import random\n",
        "import numpy as np\n",
        "from hanspell import spell_checker\n",
        "\n",
        "from tqdm.notebook import tqdm\n",
        "from tqdm import tqdm\n",
        "\n",
        "# GPU 사용\n",
        "device = torch.device(\"cuda\")\n",
        "\n",
        "# colab에서 selenium을 돌리기 위한 옵션들\n",
        "chrome_options = webdriver.ChromeOptions()\n",
        "chrome_options.add_argument('--headless')\n",
        "chrome_options.add_argument('--no-sandbox')\n",
        "chrome_options.add_argument('--disable-dev-shm-usage')"
      ],
      "execution_count": null,
      "outputs": []
    },
    {
      "cell_type": "code",
      "metadata": {
        "colab": {
          "base_uri": "https://localhost:8080/"
        },
        "id": "bU25LG1ga0J0",
        "outputId": "d50ed1ea-6f6e-4e10-b4d1-14fc3b8f98c3"
      },
      "source": [
        "# 형태소 분석기를 통한 품사 태깅\n",
        "\n",
        "okt = Okt()\n",
        "stem_stc = okt.pos('조사를 뭐해 와이 빵 먹자!! 23개가 ', stem=True) # 테스트 문장\n",
        "stem_stc"
      ],
      "execution_count": null,
      "outputs": [
        {
          "output_type": "execute_result",
          "data": {
            "text/plain": [
              "[('조사', 'Noun'),\n",
              " ('를', 'Josa'),\n",
              " ('뭐', 'Noun'),\n",
              " ('하다', 'Verb'),\n",
              " ('와이', 'Modifier'),\n",
              " ('빵', 'Noun'),\n",
              " ('먹다', 'Verb'),\n",
              " ('!!', 'Punctuation'),\n",
              " ('23', 'Number'),\n",
              " ('개', 'Noun'),\n",
              " ('가', 'Josa')]"
            ]
          },
          "metadata": {},
          "execution_count": 9
        }
      ]
    },
    {
      "cell_type": "code",
      "metadata": {
        "colab": {
          "base_uri": "https://localhost:8080/"
        },
        "id": "5uQfqxS567ZL",
        "outputId": "49e9fe38-916a-4fe1-bd95-26ca0d129f49"
      },
      "source": [
        "#######################################3################################\n",
        "# Synonym replacement\n",
        "# Replace n words in the sentence with synonyms from wordnet\n",
        "########################################################################\n",
        "\n",
        "def remove_num(string):\n",
        "    table = str.maketrans('', '', digits)\n",
        "    newstring = string.translate(table)\n",
        "    return newstring\n",
        "\n",
        "def get_synonyms(keyword):\n",
        "    driver = webdriver.Chrome(\"chromedriver\", options=chrome_options)\n",
        "    url_base = 'https://ko.dict.naver.com/'\n",
        "    url = \"https://ko.dict.naver.com/#/search?query=\"+keyword+\"&range=word\"\n",
        "\n",
        "    driver.get(url)\n",
        "    time.sleep(0.5)\n",
        "\n",
        "    html = driver.page_source\n",
        "    soup=BeautifulSoup(html, 'html.parser')\n",
        "    if soup.select('a.link')[0]['href'].split(\"/\")[1] == 'entry':\n",
        "        link = soup.select('a.link')[0]['href']\n",
        "    else:\n",
        "        link = soup.select('a.link')[1]['href']\n",
        "\n",
        "\n",
        "    driver.get(url_base + link)\n",
        "    time.sleep(0.5)\n",
        "\n",
        "    html1 = driver.page_source\n",
        "    soup1 = BeautifulSoup(html1, 'html.parser')\n",
        "    tags= soup1.select(\"div[class*=synonym] > em > a.word._word\")\n",
        "    synonyms = [remove_num(tag.text) for tag in tags]\n",
        "\n",
        "    return synonyms\n",
        "\n",
        "def synonym_replacement(sentence, n=n, seed=1):\n",
        "\n",
        "    random.seed(seed)\n",
        "    num_replaced=0\n",
        "    stem_stc = okt.pos(sentence, stem=True)\n",
        "    new_stem = [k[0] for k in stem_stc].copy()\n",
        "    words_idx = [i for i, word in enumerate(stem_stc) if word[1] not in ['KoreanParticle', 'Josa', \"Alpha\", \"Punctuation\", \"Number\"]]\n",
        "    josa_idx = [i for i, word in enumerate(stem_stc) if word[1] in ['Josa']] # 조사가 떨어지지 않도록\n",
        "    random.shuffle(words_idx)\n",
        "\n",
        "    if n<1:\n",
        "        num_words = len(words_idx)\n",
        "        n = max(1, int(n*num_words))\n",
        "\n",
        "\n",
        "    for random_word_idx in words_idx:\n",
        "        try:\n",
        "            synonyms = get_synonyms(stem_stc[random_word_idx][0])\n",
        "            if len(synonyms) >= 1:\n",
        "                synonym = random.choice(synonyms)\n",
        "                new_stem[random_word_idx] = synonym\n",
        "                num_replaced += 1\n",
        "\n",
        "        except:\n",
        "            pass\n",
        "\n",
        "        if num_replaced >= n: #only replace up to n words\n",
        "            break\n",
        "\n",
        "    # 동의어로 대체된 단어\n",
        "    new_words = new_stem.copy()\n",
        "    for josa_id in josa_idx:\n",
        "        new_words[josa_id - 1] += new_stem[josa_id]\n",
        "        new_words[josa_id] = \"\"\n",
        "    return new_words\n",
        "\n",
        "get_synonyms(\"많다\")"
      ],
      "execution_count": null,
      "outputs": [
        {
          "output_type": "execute_result",
          "data": {
            "text/plain": [
              "['무수하다', '상당하다', '수다하다', '수없다', '숱하다', '허다하다', '무진장하다', '어마어마하다', '풍족하다']"
            ]
          },
          "metadata": {
            "tags": []
          },
          "execution_count": 9
        }
      ]
    },
    {
      "cell_type": "code",
      "metadata": {
        "colab": {
          "base_uri": "https://localhost:8080/"
        },
        "id": "OXRSJzNVcCsS",
        "outputId": "69fa5483-abc6-43a8-a0d9-61b08cba0fa8"
      },
      "source": [
        "sentence = \"교도소 이야기구먼 .. 솔직히 재미는 없다.. 평점 조정 ㅋㅋㅋ\"\n",
        "n=3\n",
        "synonym_replacement(sentence)"
      ],
      "execution_count": null,
      "outputs": [
        {
          "output_type": "execute_result",
          "data": {
            "text/plain": [
              "['교도소', '대화', '구먼', '..', '참되다', '재미는', '', '허무하다', '..', '평점', '조정', 'ㅋㅋㅋ']"
            ]
          },
          "metadata": {
            "tags": []
          },
          "execution_count": 12
        }
      ]
    },
    {
      "cell_type": "code",
      "metadata": {
        "id": "AL92AIAycCvV"
      },
      "source": [
        "########################################################################\n",
        "# Random insertion\n",
        "# Randomly insert n words into the sentence\n",
        "########################################################################\n",
        "\n",
        "def random_insertion(sentence, n=n, seed=1):\n",
        "    random.seed(seed)\n",
        "    stem_stc = okt.pos(sentence, stem=True)\n",
        "    new_stem = [k[0] for k in stem_stc].copy()\n",
        "    words_list = [i for i, word in enumerate(stem_stc) if word[1] not in ['KoreanParticle', 'Josa', \"Alpha\", \"Punctuation\", \"Number\"]] #remove 조사,\n",
        "    random.shuffle(words_list)\n",
        "    num_replaced = 0\n",
        "\n",
        "    if n<1:\n",
        "        num_words = len(words_list)\n",
        "        n = max(1, int(n*num_words))\n",
        "\n",
        "    for random_word in words_list:\n",
        "        try:\n",
        "            synonyms = get_synonyms(stem_stc[random_word][0])\n",
        "            if len(synonyms) >= 1:\n",
        "                synonym = random.choice(synonyms)\n",
        "                random_idx = random.randint(0, len(new_stem)-1)\n",
        "                new_stem.insert(random_idx, synonym)\n",
        "                num_replaced += 1\n",
        "\n",
        "        except:\n",
        "            pass\n",
        "\n",
        "        if num_replaced >= n: #only replace up to n words\n",
        "            break\n",
        "\n",
        "    return new_stem\n"
      ],
      "execution_count": null,
      "outputs": []
    },
    {
      "cell_type": "code",
      "metadata": {
        "colab": {
          "base_uri": "https://localhost:8080/"
        },
        "id": "IBZnHlup6iDb",
        "outputId": "cae676d3-ca9e-49ba-a7c1-982a15e66f74"
      },
      "source": [
        "random_insertion(sentence)"
      ],
      "execution_count": null,
      "outputs": [
        {
          "output_type": "execute_result",
          "data": {
            "text/plain": [
              "['교도소',\n",
              " '조절',\n",
              " '이야기',\n",
              " '구먼',\n",
              " '..',\n",
              " '솔직하다',\n",
              " '재미',\n",
              " '는',\n",
              " '없다',\n",
              " '..',\n",
              " '평점',\n",
              " '참되다',\n",
              " '조정',\n",
              " '공허하다',\n",
              " 'ㅋㅋㅋ']"
            ]
          },
          "metadata": {
            "tags": []
          },
          "execution_count": 43
        }
      ]
    },
    {
      "cell_type": "code",
      "metadata": {
        "id": "-KlwA6ZA2ezX"
      },
      "source": [
        "\n",
        "########################################################################\n",
        "# Random deletion\n",
        "# Randomly delete words from the sentence with probability p\n",
        "########################################################################\n",
        "\n",
        "\n",
        "def random_deletion(sentence, p, seed =1):\n",
        "    random.seed(seed)\n",
        "    stem_stc = okt.pos(sentence, stem=True)\n",
        "    words = [k[0] for k in stem_stc].copy()\n",
        "\n",
        "    if len(words) == 1:\n",
        "        return words\n",
        "\n",
        "    #randomly delete words with probability p\n",
        "    new_words = []\n",
        "    for j, word in enumerate(stem_stc):\n",
        "        if word[1] not in ['KoreanParticle', 'Josa', \"Alpha\", \"Punctuation\", \"Number\"]:\n",
        "            r = random.uniform(0, 1)\n",
        "            if r > p:\n",
        "                new_words.append(word[0])\n",
        "        else:\n",
        "            if word[1] in ['Josa']:\n",
        "                if j != 0 :\n",
        "                    new_words[-1] = new_words[-1] + word[0]\n",
        "                else:\n",
        "                    new_words.append(word[0])\n",
        "            else:\n",
        "                new_words.append(word[0])\n",
        "\n",
        "\n",
        "\n",
        "    if len(new_words) == 0:\n",
        "        rand_int = random.randint(0, len(words)-1)\n",
        "        return [words[rand_int]]\n",
        "\n",
        "    return new_words"
      ],
      "execution_count": null,
      "outputs": []
    },
    {
      "cell_type": "code",
      "metadata": {
        "colab": {
          "base_uri": "https://localhost:8080/"
        },
        "id": "OfYUDcvC2sYA",
        "outputId": "39aeecda-a9d2-4c90-b8dd-92cfabea1373"
      },
      "source": [
        "random_deletion(sentence, p = 0.8)"
      ],
      "execution_count": null,
      "outputs": [
        {
          "output_type": "execute_result",
          "data": {
            "text/plain": [
              "['이야기', '..는', '..', 'ㅋㅋㅋ']"
            ]
          },
          "metadata": {
            "tags": []
          },
          "execution_count": 45
        }
      ]
    },
    {
      "cell_type": "code",
      "metadata": {
        "id": "6jcQek8K2puj"
      },
      "source": [
        "########################################################################\n",
        "# Random swap\n",
        "# Randomly swap two words in the sentence n times\n",
        "########################################################################\n",
        "\n",
        "def get_words(stem_stc):\n",
        "    words = []\n",
        "    stem_stc_mod = stem_stc.copy()\n",
        "    for j, k in enumerate(stem_stc):\n",
        "        if k[1] in ['Josa']:\n",
        "            if j != 0 :\n",
        "                words[-1] = words[-1] + k[0]\n",
        "                stem_stc_mod.remove(k)\n",
        "            else:\n",
        "                words.append(k[0])\n",
        "        else:\n",
        "            words.append(k[0])\n",
        "    return words, stem_stc_mod\n",
        "\n",
        "def random_swap(sentence, n=n, seed =1):\n",
        "    random.seed(seed)\n",
        "    stem_stc = okt.pos(sentence, stem = True)\n",
        "    words, stem_stc_mod = get_words(stem_stc)\n",
        "\n",
        "    words_idx = [i for i, word in enumerate(stem_stc_mod) if word[1] not in ['KoreanParticle', \"Alpha\", \"Punctuation\", \"Number\"]] #remove 조사,\n",
        "\n",
        "    if n<1:\n",
        "        num_words = len(words)\n",
        "        n = max(1, int(n*num_words))\n",
        "\n",
        "    if len(words_idx) == 0:\n",
        "        return words\n",
        "\n",
        "    new_words = words.copy()\n",
        "    for _ in range(n):\n",
        "        new_words = swap_word(new_words, words_idx)\n",
        "    return new_words\n",
        "\n",
        "\n",
        "\n",
        "def swap_word(new_words, words_idx):\n",
        "\trandom_idx_1 = random.choice(words_idx)\n",
        "\trandom_idx_2 = random_idx_1\n",
        "\tcounter = 0\n",
        "\twhile random_idx_2 == random_idx_1:\n",
        "\t\trandom_idx_2 = random.choice(words_idx)\n",
        "\t\tcounter += 1\n",
        "\t\tif counter > 3:\n",
        "\t\t\treturn new_words\n",
        "\tnew_words[random_idx_1], new_words[random_idx_2] = new_words[random_idx_2], new_words[random_idx_1]\n",
        "\treturn new_words"
      ],
      "execution_count": null,
      "outputs": []
    },
    {
      "cell_type": "code",
      "metadata": {
        "colab": {
          "base_uri": "https://localhost:8080/"
        },
        "id": "wDVcbMRp2pwy",
        "outputId": "d8cc1625-556e-4cde-ae1c-b3c8ee33f7b5"
      },
      "source": [
        "random_swap(sentence, n=0.1)"
      ],
      "execution_count": null,
      "outputs": [
        {
          "output_type": "execute_result",
          "data": {
            "text/plain": [
              "['교도소', '구먼', '이야기', '..', '솔직하다', '재미는', '없다', '..', '평점', '조정', 'ㅋㅋㅋ']"
            ]
          },
          "metadata": {
            "tags": []
          },
          "execution_count": 47
        }
      ]
    },
    {
      "cell_type": "code",
      "metadata": {
        "id": "CoZgXZsv5wSM"
      },
      "source": [
        "########################################################################\n",
        "# main data augmentation function\n",
        "########################################################################\n",
        "\n",
        "def eda(sentence, n_sr=0, n_ri=0, n_rs=0, p_rd=0, num_aug=9):\n",
        "\n",
        "    augmented_sentences = []\n",
        "    if_sr = n_sr > 0\n",
        "    if_ri = n_ri > 0\n",
        "    if_rs = n_rs > 0\n",
        "    if_rd = p_rd > 0\n",
        "    n_type_aug = if_sr + if_ri + if_rs + if_rd\n",
        "\n",
        "    # if\n",
        "    num_new_per_technique = math.ceil(num_aug/n_type_aug)\n",
        "\n",
        "    #sr\n",
        "    if (if_sr):\n",
        "        for i in range(num_new_per_technique):\n",
        "            a_words = synonym_replacement(sentence, n = n_sr, seed = i)\n",
        "            augmented_sentences.append(' '.join(a_words))\n",
        "\n",
        "\n",
        "    #ri\n",
        "    if (if_ri):\n",
        "\n",
        "        for i in range(num_new_per_technique):\n",
        "            a_words = random_insertion(sentence, n = n_ri, seed = i)\n",
        "            augmented_sentences.append(' '.join(a_words))\n",
        "\n",
        "    #rs\n",
        "    if (if_rs):\n",
        "        for i in range(num_new_per_technique):\n",
        "            a_words = random_swap(sentence, n = n_rs, seed = i)\n",
        "            augmented_sentences.append(' '.join(a_words))\n",
        "\n",
        "    #rd\n",
        "    if (if_rd):\n",
        "        for i in range(num_new_per_technique):\n",
        "            a_words = random_deletion(sentence, p = p_rd, seed = i)\n",
        "            augmented_sentences.append(' '.join(a_words))\n",
        "\n",
        "    # random.shuffle(augmented_sentences)\n",
        "\n",
        "    #trim so that we have the desired number of augmented sentences\n",
        "    if num_aug >= 1:\n",
        "        augmented_sentences = augmented_sentences[:num_aug]\n",
        "    else:\n",
        "        keep_prob = num_aug / len(augmented_sentences)\n",
        "        augmented_sentences = [s for s in augmented_sentences if random.uniform(0, 1) < keep_prob]\n",
        "\n",
        "    #append the original sentence\n",
        "    augmented_sentences.append(sentence)\n",
        "\n",
        "    return augmented_sentences"
      ],
      "execution_count": null,
      "outputs": []
    },
    {
      "cell_type": "code",
      "metadata": {
        "colab": {
          "base_uri": "https://localhost:8080/"
        },
        "id": "iw3gOFhI5wUQ",
        "outputId": "b3b80980-6a38-436b-fafb-3c5550212d2e"
      },
      "source": [
        "result = eda(sentence, n_sr = 0.1)\n",
        "result"
      ],
      "execution_count": null,
      "outputs": [
        {
          "output_type": "execute_result",
          "data": {
            "text/plain": [
              "['교도소 이야기 구먼 .. 솔직하다 즐거움는  없다 .. 평점 조정',\n",
              " '교도소 이야기 구먼 .. 참되다 재미는  없다 .. 평점 조정',\n",
              " '교도소 옛날이야기 구먼 .. 솔직하다 재미는  없다 .. 평점 조정',\n",
              " '교도소 이야기 구먼 .. 솔직하다 재미는  없다 .. 평점 조절',\n",
              " '교도소 이야기 구먼 .. 솔직하다 낙는  없다 .. 평점 조정',\n",
              " '교도소 이야기 구먼 .. 정직하다 재미는  없다 .. 평점 조정',\n",
              " '교도소 이야기 구먼 .. 솔직하다 재미는  없다 .. 평점 조절',\n",
              " '교도소 이야기 구먼 .. 솔직하다 재미는  없다 .. 평점 조절',\n",
              " '감방 이야기 구먼 .. 솔직하다 재미는  없다 .. 평점 조정',\n",
              " '교도소 이야기구먼 .. 솔직히 재미는 없다.. 평점 조정']"
            ]
          },
          "metadata": {},
          "execution_count": 39
        }
      ]
    },
    {
      "cell_type": "code",
      "metadata": {
        "colab": {
          "base_uri": "https://localhost:8080/"
        },
        "id": "b5j4buKM5wcI",
        "outputId": "96e52ed2-0a5a-4ac9-d764-53272db19397"
      },
      "source": [
        "result = eda(sentence, n_rs = 0.1)\n",
        "result"
      ],
      "execution_count": null,
      "outputs": [
        {
          "output_type": "execute_result",
          "data": {
            "text/plain": [
              "['교도소 이야기 구먼 .. 없다 재미는 솔직하다 .. 평점 조정',\n",
              " '교도소 이야기 없다 .. 솔직하다 재미는 구먼 .. 평점 조정',\n",
              " '교도소 이야기 솔직하다 .. 구먼 재미는 없다 .. 평점 조정',\n",
              " '교도소 이야기 구먼 .. 재미는 솔직하다 없다 .. 평점 조정',\n",
              " '평점 이야기 구먼 .. 솔직하다 재미는 없다 .. 교도소 조정',\n",
              " '교도소 이야기 구먼 .. 솔직하다 없다 재미는 .. 평점 조정',\n",
              " '교도소 구먼 이야기 .. 솔직하다 재미는 없다 .. 평점 조정',\n",
              " '이야기 교도소 구먼 .. 솔직하다 재미는 없다 .. 평점 조정',\n",
              " '교도소 조정 구먼 .. 솔직하다 재미는 없다 .. 평점 이야기',\n",
              " '교도소 이야기구먼 .. 솔직히 재미는 없다.. 평점 조정']"
            ]
          },
          "metadata": {
            "tags": []
          },
          "execution_count": 92
        }
      ]
    },
    {
      "cell_type": "code",
      "metadata": {
        "colab": {
          "base_uri": "https://localhost:8080/"
        },
        "id": "lJHzB3Bg5we1",
        "outputId": "45716096-bbff-4238-dee8-2bc55404d662"
      },
      "source": [
        "\n",
        "result = eda(sentence, n_ri = 0.1)\n",
        "result"
      ],
      "execution_count": null,
      "outputs": [
        {
          "output_type": "execute_result",
          "data": {
            "text/plain": [
              "['사담 교도소 이야기 구먼 .. 솔직하다 재미 는 없다 .. 평점 조정',\n",
              " '교도소 이야기 구먼 .. 솔직하다 재미 는 없다 .. 참되다 평점 조정',\n",
              " '교도소 이야기 구먼 .. 솔직하다 재미 는 없다 .. 평점 참되다 조정',\n",
              " '교도소 이야기 구먼 .. 솔직하다 조절 재미 는 없다 .. 평점 조정',\n",
              " '교도소 이야기 구먼 .. 즐거움 솔직하다 재미 는 없다 .. 평점 조정',\n",
              " '정직하다 교도소 이야기 구먼 .. 솔직하다 재미 는 없다 .. 평점 조정',\n",
              " '교도소 이야기 구먼 .. 솔직하다 재미 는 없다 .. 조절 평점 조정',\n",
              " '교도소 이야기 불가능하다 구먼 .. 솔직하다 재미 는 없다 .. 평점 조정',\n",
              " '교도소 이야기 구먼 .. 솔직하다 재미 는 없다 .. 감방 평점 조정',\n",
              " '교도소 이야기구먼 .. 솔직히 재미는 없다.. 평점 조정']"
            ]
          },
          "metadata": {
            "tags": []
          },
          "execution_count": 51
        }
      ]
    },
    {
      "cell_type": "code",
      "metadata": {
        "colab": {
          "base_uri": "https://localhost:8080/"
        },
        "id": "RyTXFAfY5wW0",
        "outputId": "330dafc6-4295-48fa-b2c6-385023886a58"
      },
      "source": [
        "result = eda(sentence, p_rd = 0.1)\n",
        "result"
      ],
      "execution_count": null,
      "outputs": [
        {
          "output_type": "execute_result",
          "data": {
            "text/plain": [
              "['교도소 이야기 구먼 .. 솔직하다 재미는 없다 .. 평점 조정',\n",
              " '교도소 이야기 구먼 .. 솔직하다는 없다 .. 평점 조정',\n",
              " '교도소 이야기 .. 재미는 없다 .. 평점 조정',\n",
              " '교도소 이야기 구먼 .. 솔직하다는 없다 .. 평점 조정',\n",
              " '교도소 이야기 구먼 .. 솔직하다 재미는 없다 .. 조정',\n",
              " '교도소 이야기 구먼 .. 솔직하다는 없다 .. 평점 조정',\n",
              " '교도소 이야기 구먼 .. 솔직하다 재미는 .. 조정',\n",
              " '교도소 이야기 구먼 .. 재미는 없다 .. 조정',\n",
              " '교도소 이야기 구먼 .. 솔직하다 재미는 없다 .. 평점 조정',\n",
              " '교도소 이야기구먼 .. 솔직히 재미는 없다.. 평점 조정']"
            ]
          },
          "metadata": {
            "tags": []
          },
          "execution_count": 36
        }
      ]
    },
    {
      "cell_type": "code",
      "metadata": {
        "colab": {
          "base_uri": "https://localhost:8080/"
        },
        "id": "TYTTy6UKKGiM",
        "outputId": "57493ca0-56df-4a13-f64b-60ee90d424c1"
      },
      "source": [
        "result = eda(\"이영화 진짜재밋다\", p_rd = 0.1, n_sr = 0.1, n_rs = 0.1, n_ri = 0.1, num_aug = 4)\n",
        "result"
      ],
      "execution_count": null,
      "outputs": [
        {
          "output_type": "execute_result",
          "data": {
            "text/plain": [
              "['이영화 실지 재 밋다', '이영화 진짜 재 실지 밋다', '밋다 진짜 재 이영화', '이영화 진짜 재 밋다', '이영화 진짜재밋다']"
            ]
          },
          "metadata": {
            "tags": []
          },
          "execution_count": 59
        }
      ]
    }
  ]
}